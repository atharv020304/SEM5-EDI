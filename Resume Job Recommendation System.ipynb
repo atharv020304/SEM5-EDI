{
 "cells": [
  {
   "cell_type": "code",
   "execution_count": 1,
   "id": "1299bed4",
   "metadata": {},
   "outputs": [],
   "source": [
    "import pandas as pd"
   ]
  },
  {
   "cell_type": "code",
   "execution_count": 2,
   "id": "b1e014d0",
   "metadata": {},
   "outputs": [],
   "source": [
    "df = pd.read_csv(\"jobs_dataset_with_features.csv\")"
   ]
  },
  {
   "cell_type": "code",
   "execution_count": 3,
   "id": "41b68c18",
   "metadata": {},
   "outputs": [
    {
     "data": {
      "text/html": [
       "<div>\n",
       "<style scoped>\n",
       "    .dataframe tbody tr th:only-of-type {\n",
       "        vertical-align: middle;\n",
       "    }\n",
       "\n",
       "    .dataframe tbody tr th {\n",
       "        vertical-align: top;\n",
       "    }\n",
       "\n",
       "    .dataframe thead th {\n",
       "        text-align: right;\n",
       "    }\n",
       "</style>\n",
       "<table border=\"1\" class=\"dataframe\">\n",
       "  <thead>\n",
       "    <tr style=\"text-align: right;\">\n",
       "      <th></th>\n",
       "      <th>Role</th>\n",
       "      <th>Features</th>\n",
       "    </tr>\n",
       "  </thead>\n",
       "  <tbody>\n",
       "    <tr>\n",
       "      <th>0</th>\n",
       "      <td>Social Media Manager</td>\n",
       "      <td>5 to 15 Years Digital Marketing Specialist M.T...</td>\n",
       "    </tr>\n",
       "    <tr>\n",
       "      <th>1</th>\n",
       "      <td>Frontend Web Developer</td>\n",
       "      <td>2 to 12 Years Web Developer BCA HTML, CSS, Jav...</td>\n",
       "    </tr>\n",
       "  </tbody>\n",
       "</table>\n",
       "</div>"
      ],
      "text/plain": [
       "                     Role                                           Features\n",
       "0    Social Media Manager  5 to 15 Years Digital Marketing Specialist M.T...\n",
       "1  Frontend Web Developer  2 to 12 Years Web Developer BCA HTML, CSS, Jav..."
      ]
     },
     "execution_count": 3,
     "metadata": {},
     "output_type": "execute_result"
    }
   ],
   "source": [
    "df.head(2)"
   ]
  },
  {
   "cell_type": "code",
   "execution_count": 4,
   "id": "a8856e34",
   "metadata": {},
   "outputs": [
    {
     "data": {
      "text/plain": [
       "Index(['Role', 'Features'], dtype='object')"
      ]
     },
     "execution_count": 4,
     "metadata": {},
     "output_type": "execute_result"
    }
   ],
   "source": [
    "df.columns"
   ]
  },
  {
   "cell_type": "code",
   "execution_count": 5,
   "id": "abad1791",
   "metadata": {},
   "outputs": [
    {
     "data": {
      "text/plain": [
       "Role\n",
       "Interaction Designer            20580\n",
       "Network Administrator           17470\n",
       "User Interface Designer         14036\n",
       "Social Media Manager            13945\n",
       "User Experience Designer        13935\n",
       "                                ...  \n",
       "Inventory Control Specialist     3342\n",
       "Budget Analyst                   3335\n",
       "Clinical Nurse Manager           3324\n",
       "Social Science Researcher        3321\n",
       "Paid Advertising Specialist      3306\n",
       "Name: count, Length: 376, dtype: int64"
      ]
     },
     "execution_count": 5,
     "metadata": {},
     "output_type": "execute_result"
    }
   ],
   "source": [
    "df['Role'].value_counts()"
   ]
  },
  {
   "cell_type": "code",
   "execution_count": 7,
   "id": "c05f0b22",
   "metadata": {},
   "outputs": [],
   "source": [
    "# # Select relevant features\n",
    "# selected_features = ['Experience','Job Title', 'Qualifications', 'skills', 'Responsibilities', 'Company Size',]\n",
    "\n",
    "# # Merge selected features into one column\n",
    "# df['Features'] = df[selected_features].apply(lambda x: ' '.join(x.dropna().astype(str)), axis=1)\n",
    "\n",
    "# # Drop the individual feature columns\n",
    "# df.drop(columns=selected_features, inplace=True)\n",
    "# # Drop all columns except 'Role' and 'Features'\n",
    "# df.drop(columns=[col for col in df.columns if col not in ['Role', 'Features']], inplace=True)\n",
    "# # Save the modified dataset\n",
    "# df.to_csv('jobs_dataset_with_features.csv', index=False)"
   ]
  },
  {
   "cell_type": "code",
   "execution_count": 6,
   "id": "017ff417",
   "metadata": {},
   "outputs": [],
   "source": [
    "df = pd.read_csv(\"jobs_dataset_with_features.csv\")"
   ]
  },
  {
   "cell_type": "code",
   "execution_count": 7,
   "id": "ed7fa217",
   "metadata": {},
   "outputs": [
    {
     "data": {
      "text/plain": [
       "(1615940, 2)"
      ]
     },
     "execution_count": 7,
     "metadata": {},
     "output_type": "execute_result"
    }
   ],
   "source": [
    "df.shape"
   ]
  },
  {
   "cell_type": "code",
   "execution_count": 9,
   "id": "7c1c2609",
   "metadata": {},
   "outputs": [
    {
     "data": {
      "text/html": [
       "<div>\n",
       "<style scoped>\n",
       "    .dataframe tbody tr th:only-of-type {\n",
       "        vertical-align: middle;\n",
       "    }\n",
       "\n",
       "    .dataframe tbody tr th {\n",
       "        vertical-align: top;\n",
       "    }\n",
       "\n",
       "    .dataframe thead th {\n",
       "        text-align: right;\n",
       "    }\n",
       "</style>\n",
       "<table border=\"1\" class=\"dataframe\">\n",
       "  <thead>\n",
       "    <tr style=\"text-align: right;\">\n",
       "      <th></th>\n",
       "      <th>Role</th>\n",
       "      <th>Features</th>\n",
       "    </tr>\n",
       "  </thead>\n",
       "  <tbody>\n",
       "    <tr>\n",
       "      <th>0</th>\n",
       "      <td>Social Media Manager</td>\n",
       "      <td>5 to 15 Years Digital Marketing Specialist M.T...</td>\n",
       "    </tr>\n",
       "    <tr>\n",
       "      <th>1</th>\n",
       "      <td>Frontend Web Developer</td>\n",
       "      <td>2 to 12 Years Web Developer BCA HTML, CSS, Jav...</td>\n",
       "    </tr>\n",
       "    <tr>\n",
       "      <th>2</th>\n",
       "      <td>Quality Control Manager</td>\n",
       "      <td>0 to 12 Years Operations Manager PhD Quality c...</td>\n",
       "    </tr>\n",
       "    <tr>\n",
       "      <th>3</th>\n",
       "      <td>Wireless Network Engineer</td>\n",
       "      <td>4 to 11 Years Network Engineer PhD Wireless ne...</td>\n",
       "    </tr>\n",
       "    <tr>\n",
       "      <th>4</th>\n",
       "      <td>Conference Manager</td>\n",
       "      <td>1 to 12 Years Event Manager MBA Event planning...</td>\n",
       "    </tr>\n",
       "  </tbody>\n",
       "</table>\n",
       "</div>"
      ],
      "text/plain": [
       "                        Role  \\\n",
       "0       Social Media Manager   \n",
       "1     Frontend Web Developer   \n",
       "2    Quality Control Manager   \n",
       "3  Wireless Network Engineer   \n",
       "4         Conference Manager   \n",
       "\n",
       "                                            Features  \n",
       "0  5 to 15 Years Digital Marketing Specialist M.T...  \n",
       "1  2 to 12 Years Web Developer BCA HTML, CSS, Jav...  \n",
       "2  0 to 12 Years Operations Manager PhD Quality c...  \n",
       "3  4 to 11 Years Network Engineer PhD Wireless ne...  \n",
       "4  1 to 12 Years Event Manager MBA Event planning...  "
      ]
     },
     "execution_count": 9,
     "metadata": {},
     "output_type": "execute_result"
    }
   ],
   "source": [
    "df.head()"
   ]
  },
  {
   "cell_type": "code",
   "execution_count": 8,
   "id": "b3a3ea35",
   "metadata": {},
   "outputs": [
    {
     "data": {
      "text/plain": [
       "Role\n",
       "Interaction Designer          20580\n",
       "Network Administrator         17470\n",
       "User Interface Designer       14036\n",
       "Social Media Manager          13945\n",
       "User Experience Designer      13935\n",
       "                              ...  \n",
       "Benefits Coordinator           6839\n",
       "Research Analyst               6830\n",
       "Administrative Coordinator     6803\n",
       "IT Support Specialist          6799\n",
       "UI/UX Designer                 6743\n",
       "Name: count, Length: 61, dtype: int64"
      ]
     },
     "execution_count": 8,
     "metadata": {},
     "output_type": "execute_result"
    }
   ],
   "source": [
    "# Dropping classes with less than 6500 instances\n",
    "min_count = 6500\n",
    "role_counts = df['Role'].value_counts()\n",
    "dropped_classes = role_counts[role_counts < min_count].index\n",
    "filtered_df = df[~df['Role'].isin(dropped_classes)].reset_index(drop=True)\n",
    "\n",
    "# Checking the updated role counts\n",
    "filtered_df['Role'].value_counts()"
   ]
  },
  {
   "cell_type": "code",
   "execution_count": 9,
   "id": "175e64af",
   "metadata": {},
   "outputs": [
    {
     "data": {
      "text/plain": [
       "61"
      ]
     },
     "execution_count": 9,
     "metadata": {},
     "output_type": "execute_result"
    }
   ],
   "source": [
    "len(filtered_df['Role'].value_counts())"
   ]
  },
  {
   "cell_type": "code",
   "execution_count": 10,
   "id": "facaa061",
   "metadata": {},
   "outputs": [],
   "source": [
    "df = filtered_df.sample(n=10000)"
   ]
  },
  {
   "cell_type": "code",
   "execution_count": 11,
   "id": "42196e26",
   "metadata": {},
   "outputs": [
    {
     "data": {
      "text/html": [
       "<div>\n",
       "<style scoped>\n",
       "    .dataframe tbody tr th:only-of-type {\n",
       "        vertical-align: middle;\n",
       "    }\n",
       "\n",
       "    .dataframe tbody tr th {\n",
       "        vertical-align: top;\n",
       "    }\n",
       "\n",
       "    .dataframe thead th {\n",
       "        text-align: right;\n",
       "    }\n",
       "</style>\n",
       "<table border=\"1\" class=\"dataframe\">\n",
       "  <thead>\n",
       "    <tr style=\"text-align: right;\">\n",
       "      <th></th>\n",
       "      <th>Role</th>\n",
       "      <th>Features</th>\n",
       "    </tr>\n",
       "  </thead>\n",
       "  <tbody>\n",
       "    <tr>\n",
       "      <th>226052</th>\n",
       "      <td>Supply Chain Manager</td>\n",
       "      <td>0 to 14 Years Operations Manager M.Com Supply ...</td>\n",
       "    </tr>\n",
       "    <tr>\n",
       "      <th>138631</th>\n",
       "      <td>Portfolio Manager</td>\n",
       "      <td>0 to 13 Years Investment Analyst MCA Investmen...</td>\n",
       "    </tr>\n",
       "    <tr>\n",
       "      <th>96547</th>\n",
       "      <td>Inventory Manager</td>\n",
       "      <td>5 to 12 Years Purchasing Agent MBA Inventory c...</td>\n",
       "    </tr>\n",
       "    <tr>\n",
       "      <th>511110</th>\n",
       "      <td>Demand Planner</td>\n",
       "      <td>1 to 14 Years Supply Chain Manager MBA Demand ...</td>\n",
       "    </tr>\n",
       "    <tr>\n",
       "      <th>380962</th>\n",
       "      <td>Frontend Developer</td>\n",
       "      <td>1 to 8 Years Software Engineer B.Com Proficien...</td>\n",
       "    </tr>\n",
       "  </tbody>\n",
       "</table>\n",
       "</div>"
      ],
      "text/plain": [
       "                        Role  \\\n",
       "226052  Supply Chain Manager   \n",
       "138631     Portfolio Manager   \n",
       "96547      Inventory Manager   \n",
       "511110        Demand Planner   \n",
       "380962    Frontend Developer   \n",
       "\n",
       "                                                 Features  \n",
       "226052  0 to 14 Years Operations Manager M.Com Supply ...  \n",
       "138631  0 to 13 Years Investment Analyst MCA Investmen...  \n",
       "96547   5 to 12 Years Purchasing Agent MBA Inventory c...  \n",
       "511110  1 to 14 Years Supply Chain Manager MBA Demand ...  \n",
       "380962  1 to 8 Years Software Engineer B.Com Proficien...  "
      ]
     },
     "execution_count": 11,
     "metadata": {},
     "output_type": "execute_result"
    }
   ],
   "source": [
    "df.head()"
   ]
  },
  {
   "cell_type": "markdown",
   "id": "7316983f",
   "metadata": {},
   "source": [
    "# TFIDF"
   ]
  },
  {
   "cell_type": "code",
   "execution_count": 12,
   "id": "cee6eccf",
   "metadata": {},
   "outputs": [],
   "source": [
    "from sklearn.model_selection import train_test_split\n",
    "from sklearn.feature_extraction.text import TfidfVectorizer\n",
    "from sklearn.ensemble import RandomForestClassifier\n",
    "from sklearn.metrics import accuracy_score\n",
    "\n",
    "# Splitting the data into features (X) and target (y)\n",
    "X = df['Features']\n",
    "y = df['Role']\n",
    "\n",
    "# Train-test split\n",
    "X_train, X_test, y_train, y_test = train_test_split(X, y, test_size=0.2, random_state=42)\n",
    "\n",
    "# TF-IDF vectorization\n",
    "tfidf_vectorizer = TfidfVectorizer()\n",
    "X_train_tfidf = tfidf_vectorizer.fit_transform(X_train)\n",
    "X_test_tfidf = tfidf_vectorizer.transform(X_test)"
   ]
  },
  {
   "cell_type": "code",
   "execution_count": 13,
   "id": "447a8441",
   "metadata": {},
   "outputs": [
    {
     "name": "stdout",
     "output_type": "stream",
     "text": [
      "Accuracy: 1.0\n"
     ]
    }
   ],
   "source": [
    "# RandomForestClassifier\n",
    "rf_classifier = RandomForestClassifier()\n",
    "rf_classifier.fit(X_train_tfidf, y_train)\n",
    "\n",
    "# Predictions\n",
    "y_pred = rf_classifier.predict(X_test_tfidf)\n",
    "\n",
    "# Accuracy\n",
    "accuracy = accuracy_score(y_test, y_pred)\n",
    "print(\"Accuracy:\", accuracy)"
   ]
  },
  {
   "cell_type": "markdown",
   "id": "a113c01e",
   "metadata": {},
   "source": [
    "# Recommendation"
   ]
  },
  {
   "cell_type": "code",
   "execution_count": 14,
   "id": "49484fd1",
   "metadata": {},
   "outputs": [],
   "source": [
    "# # Clean resume\n",
    "# import re\n",
    "# def cleanResume(txt):\n",
    "#     cleanText = re.sub('http\\S+\\s', ' ', txt)\n",
    "#     cleanText = re.sub('RT|cc', ' ', cleanText)\n",
    "#     cleanText = re.sub('#\\S+\\s', ' ', cleanText)\n",
    "#     cleanText = re.sub('@\\S+', '  ', cleanText)  \n",
    "#     cleanText = re.sub('[%s]' % re.escape(\"\"\"!\"#$%&'()*+,-./:;<=>?@[\\]^_`{|}~\"\"\"), ' ', cleanText)\n",
    "#     cleanText = re.sub(r'[^\\x00-\\x7f]', ' ', cleanText) \n",
    "#     cleanText = re.sub('\\s+', ' ', cleanText)\n",
    "#     return cleanText\n",
    "\n",
    "\n",
    "# # Prediction and Category Name\n",
    "# def job_recommendation(resume_text):\n",
    "#     resume_text= cleanResume(resume_text)\n",
    "#     resume_tfidf = tfidf_vectorizer.transform([resume_text])\n",
    "#     predicted_category = rf_classifier.predict(resume_tfidf)[0]\n",
    "#     return predicted_category\n",
    "\n",
    "\n",
    "\n",
    "import re\n",
    "\n",
    "def cleanResume(txt):\n",
    "    cleanText = re.sub(r'http\\S+\\s', ' ', txt)  # Raw string with r\n",
    "    cleanText = re.sub(r'RT|cc', ' ', cleanText)  # Raw string with r\n",
    "    cleanText = re.sub(r'#\\S+\\s', ' ', cleanText)  # Raw string with r\n",
    "    cleanText = re.sub(r'@\\S+', ' ', cleanText)  # Raw string with r\n",
    "    cleanText = re.sub(r'[%s]' % re.escape(r\"\"\"!\"#$%&'()*+,-./:;<=>?@[\\]^_`{|}~\"\"\"), ' ', cleanText)  # Raw string for pattern\n",
    "    cleanText = re.sub(r'[^\\x00-\\x7f]', ' ', cleanText)  # Raw string with r\n",
    "    cleanText = re.sub(r'\\s+', ' ', cleanText)  # Raw string with r\n",
    "    return cleanText\n",
    "\n",
    "\n",
    "# Prediction and Category Name\n",
    "def job_recommendation(resume_text):\n",
    "    resume_text= cleanResume(resume_text)\n",
    "    resume_tfidf = tfidf_vectorizer.transform([resume_text])\n",
    "    predicted_category = rf_classifier.predict(resume_tfidf)[0]\n",
    "    return predicted_category\n"
   ]
  },
  {
   "cell_type": "code",
   "execution_count": 15,
   "id": "5526587a",
   "metadata": {},
   "outputs": [
    {
     "name": "stdout",
     "output_type": "stream",
     "text": [
      "Predicted Category: User Interface Designer\n"
     ]
    }
   ],
   "source": [
    "# Example Usage\n",
    "resume_file = \"\"\"Objective:\n",
    "A creative and detail-oriented Designer with a passion for visual communication and brand identity seeking opportunities to leverage design skills in a dynamic and collaborative environment.\n",
    "\n",
    "Education:\n",
    "- Bachelor of Fine Arts in Graphic Design, XYZ College, GPA: 3.7/4.0\n",
    "- Diploma in Web Design, ABC Institute, GPA: 3.9/4.0\n",
    "\n",
    "Skills:\n",
    "- Proficient in Adobe Creative Suite (Photoshop, Illustrator, InDesign)\n",
    "- Strong understanding of typography, layout, and color theory\n",
    "- Experience in both print and digital design\n",
    "- Ability to conceptualize and execute design projects from concept to completion\n",
    "- Excellent attention to detail and time management skills\n",
    "\n",
    "Experience:\n",
    "Graphic Designer | XYZ Design Studio\n",
    "- Created visually appealing graphics for various marketing materials, including brochures, flyers, and social media posts\n",
    "- Collaborated with clients to understand their design needs and deliver creative solutions that align with their brand identity\n",
    "- Worked closely with the marketing team to ensure consistency in brand messaging across all platforms\n",
    "\n",
    "Freelance Designer\n",
    "- Designed logos, branding materials, and website layouts for small businesses and startups\n",
    "- Managed multiple projects simultaneously while meeting tight deadlines and maintaining quality standards\n",
    "- Established and maintained strong client relationships through clear communication and exceptional service\n",
    "\n",
    "Projects:\n",
    "- Rebranding Campaign for XYZ Company: Led a team to redesign the company's logo, website, and marketing collateral, resulting in a 30% increase in brand recognition\n",
    "- Packaging Design for ABC Product Launch: Developed eye-catching packaging designs for a new product line, contributing to a successful launch and positive customer feedback\n",
    "\n",
    "Certifications:\n",
    "- Adobe Certified Expert (ACE) in Adobe Illustrator\n",
    "- Responsive Web Design Certification from Udemy\n",
    "\n",
    "Languages:\n",
    "- English (Native)\n",
    "- Spanish (Intermediate)\n",
    "\"\"\"\n",
    "predicted_category = job_recommendation(resume_file)\n",
    "print(\"Predicted Category:\", predicted_category)"
   ]
  },
  {
   "cell_type": "code",
   "execution_count": 18,
   "id": "eaa995e1",
   "metadata": {},
   "outputs": [
    {
     "name": "stdout",
     "output_type": "stream",
     "text": [
      "Predicted Category: Financial Analyst\n"
     ]
    }
   ],
   "source": [
    "# Example Usage\n",
    "resume_file = \"\"\"Objective:\n",
    "Dedicated and results-oriented Banking professional with a strong background in financial analysis and customer service seeking opportunities to contribute to a reputable financial institution. Eager to leverage expertise in risk management, investment strategies, and relationship building to drive business growth and client satisfaction.\n",
    "\n",
    "Education:\n",
    "- Bachelor of Business Administration in Finance, XYZ University, GPA: 3.8/4.0\n",
    "- Certified Financial Analyst (CFA) Level I Candidate\n",
    "\n",
    "Skills:\n",
    "- Proficient in financial modeling and analysis using Excel, Bloomberg Terminal, and other financial software\n",
    "- Extensive knowledge of banking products and services, including loans, mortgages, and investment products\n",
    "- Strong understanding of regulatory compliance and risk management practices in the banking industry\n",
    "- Excellent communication and interpersonal skills, with a focus on building rapport with clients and colleagues\n",
    "- Ability to work efficiently under pressure and adapt to changing market conditions\n",
    "\n",
    "Experience:\n",
    "Financial Analyst | ABC Bank\n",
    "- Conducted financial analysis and risk assessment for corporate clients, including credit analysis, financial statement analysis, and cash flow modeling\n",
    "- Developed customized financial solutions to meet clients' needs and objectives, resulting in increased revenue and client retention\n",
    "- Collaborated with cross-functional teams to identify new business opportunities and optimize existing processes\n",
    "\n",
    "Customer Service Representative | DEF Bank\n",
    "- Provided exceptional customer service to bank clients, addressing inquiries, resolving issues, and promoting banking products and services\n",
    "- Processed transactions accurately and efficiently, including deposits, withdrawals, and account transfers\n",
    "- Educated customers on various banking products and services, helping them make informed financial decisions\n",
    "\n",
    "Internship | GHI Investments\n",
    "- Assisted portfolio managers with investment research and analysis, including industry and company-specific research, financial modeling, and performance analysis\n",
    "- Prepared investment presentations and reports for clients, highlighting investment opportunities and performance metrics\n",
    "- Conducted market research and analysis to identify trends and opportunities in the financial markets\n",
    "\n",
    "Certifications:\n",
    "- Certified Financial Planner (CFP)\n",
    "- Series 7 and Series 63 Securities Licenses\n",
    "\n",
    "Languages:\n",
    "- English (Native)\n",
    "- Spanish (Proficient)\n",
    "\n",
    "\"\"\"\n",
    "predicted_category = job_recommendation(resume_file)\n",
    "print(\"Predicted Category:\", predicted_category)"
   ]
  },
  {
   "cell_type": "code",
   "execution_count": 18,
   "id": "b6656674",
   "metadata": {},
   "outputs": [
    {
     "name": "stdout",
     "output_type": "stream",
     "text": [
      "Predicted Category: Frontend Developer\n"
     ]
    }
   ],
   "source": [
    "resume_file = \"\"\"Objective:\n",
    "Skilled and passionate Web Developer with a strong background in front-end and back-end development, seeking an opportunity to apply my expertise in building responsive and user-friendly web applications. Eager to contribute to a dynamic team by leveraging skills in modern web technologies, problem-solving, and continuous learning.\n",
    "\n",
    "Education:\n",
    "- Bachelor of Science in Computer Science, XYZ University, GPA: 3.7/4.0\n",
    "- Full Stack Web Development Certification from ABC Coding Bootcamp\n",
    "\n",
    "Skills:\n",
    "- Proficient in HTML, CSS, JavaScript, and modern frameworks like React, Angular, and Vue.js\n",
    "- Strong experience with back-end technologies such as Node.js, Express, and databases like MongoDB and MySQL\n",
    "- Knowledgeable in RESTful API design and integration, as well as third-party APIs\n",
    "- Familiarity with DevOps practices, including Docker, CI/CD, and cloud services (AWS, Azure)\n",
    "- Excellent problem-solving skills and a collaborative mindset, able to work well in both independent and team environments\n",
    "\n",
    "Experience:\n",
    "Front-End Developer | Tech Solutions Inc.\n",
    "- Developed responsive, user-friendly web interfaces using HTML, CSS, JavaScript, and React, resulting in improved user engagement and satisfaction\n",
    "- Collaborated with designers and back-end developers to ensure seamless integration of UI components\n",
    "- Optimized front-end code for performance and SEO, reducing page load time by 30%\n",
    "\n",
    "Full Stack Developer | XYZ Digital Agency\n",
    "- Built full-stack web applications for clients, using Node.js, Express, and MongoDB for the backend, and React for the frontend\n",
    "- Designed RESTful APIs to facilitate data interaction between front-end and back-end systems\n",
    "- Worked with clients to define project requirements and delivered high-quality solutions within tight deadlines\n",
    "\n",
    "Web Development Intern | ABC Startup\n",
    "- Assisted in the development of an e-commerce platform using Shopify and custom code integrations\n",
    "- Implemented UI changes and added new features to enhance user experience and functionality\n",
    "- Conducted testing and debugging, identifying and resolving issues to ensure smooth performance\n",
    "\n",
    "Certifications:\n",
    "- Certified Web Developer (CWD)\n",
    "- JavaScript Developer Certificate (JDC)\n",
    "\n",
    "Languages:\n",
    "- English (Native)\n",
    "- French (Conversational)\n",
    "\n",
    "\"\"\"\n",
    "predicted_category = job_recommendation(resume_file)\n",
    "print(\"Predicted Category:\", predicted_category)\n"
   ]
  },
  {
   "cell_type": "code",
   "execution_count": 20,
   "id": "dd39b788",
   "metadata": {},
   "outputs": [
    {
     "name": "stdout",
     "output_type": "stream",
     "text": [
      "Predicted Category: Backend Developer\n"
     ]
    }
   ],
   "source": [
    "resume_file = \"\"\"Objective:\n",
    "Detail-oriented and experienced Backend Developer with a strong foundation in server-side programming and database management. Adept at designing scalable, secure, and efficient back-end systems to support high-performance web applications. Seeking a challenging role to utilize my technical skills and contribute to innovative solutions.\n",
    "\n",
    "Education:\n",
    "- Bachelor of Science in Computer Science, XYZ University, GPA: 3.7/4.0\n",
    "- Full Stack Web Development Certification from ABC Coding Bootcamp\n",
    "\n",
    "Skills:\n",
    "- Proficient in back-end technologies such as Node.js, Express, Django, and Flask\n",
    "- Strong experience with databases like MongoDB, MySQL, PostgreSQL, and Redis\n",
    "- Skilled in RESTful API design and development, including GraphQL integrations\n",
    "- Familiarity with microservices architecture and message brokers like RabbitMQ and Kafka\n",
    "- Expertise in DevOps practices, including Docker, Kubernetes, CI/CD pipelines, and cloud platforms (AWS, Azure, GCP)\n",
    "- Excellent debugging and problem-solving abilities with a focus on performance optimization\n",
    "\n",
    "Experience:\n",
    "Backend Developer | Tech Solutions Inc.\n",
    "- Designed and implemented RESTful APIs and microservices to support scalable web applications\n",
    "- Managed database schemas, optimized queries, and implemented data security protocols\n",
    "- Worked with front-end teams to ensure smooth data flow and integration\n",
    "- Improved server performance, reducing API response times by 25%\n",
    "\n",
    "Backend Developer | XYZ Digital Agency\n",
    "- Developed robust server-side solutions using Node.js, Express, and PostgreSQL\n",
    "- Designed and maintained scalable architectures to handle increased user loads\n",
    "- Collaborated with clients to define system requirements and deliver tailored solutions\n",
    "- Integrated third-party APIs to extend functionality for client projects\n",
    "\n",
    "Backend Development Intern | ABC Startup\n",
    "- Assisted in developing back-end logic for an e-commerce platform using Python and Django\n",
    "- Optimized database queries to enhance performance for large-scale datasets\n",
    "- Conducted system testing and deployed updates to production environments\n",
    "\n",
    "Certifications:\n",
    "- Certified Backend Developer (CBD)\n",
    "- Advanced Database Management Certificate (ADMC)\n",
    "\n",
    "Languages:\n",
    "- English (Native)\n",
    "- French (Conversational)\n",
    "\"\"\"\n",
    "\n",
    "predicted_category = job_recommendation(resume_file)\n",
    "print(\"Predicted Category:\", predicted_category)\n"
   ]
  },
  {
   "cell_type": "code",
   "execution_count": 23,
   "id": "c0b5221b",
   "metadata": {},
   "outputs": [
    {
     "name": "stdout",
     "output_type": "stream",
     "text": [
      " First Lasn DevOps Engineer WORK EXPERIENCE ______________________________________________________________________ Resume Worded London United Kingdom Career training and membership SaaS with 150000 paying users DevOps Engineer 08 2021 Present Reviewed all AWS accounts and environments to avoid additional costs decreasing 63 of quarterly bills Maintained the IT infrastructure VPN and MPLS connections between 80 branch oﬃces and 30 security systems Collaborated with 20 IT support team members to troubleshoot and install devices hardware failures and network related problems Developed a tool that enabled 250 developers to deploy virtual machines within 45 seconds against 10 minutes recorded in previous years Polyhire London United Kingdom NYSE listed recruitment and employer branding company System Admin 10 2019 07 2021 Reduced programming time to 20 days against 15 weeks by devising a modular framework for creating backend code in Python and Django Analyzed user errors and corrected 2400 lines of problematic codes reducing computer system downtime by 74 YoY Transformed the web server of Polyhire from an obsolete Apache to a LAMP stack enhancing site performance by 89 Consolidated all CRM databases into a single VM which improved accessibility and saved the company 1500 monthly Growthsi London United Kingdom Barcelona Spain Augmented reality startup with 50 employees and 100m annual revenue SQL Programmer 11 2018 09 2019 Attracted 700 weekly downloads on Bitbucket by developing an open source SQL parser including parsing trees syntax analysis and runtime error detection Designed a transaction processing functionality to handle 1M simultaneous client requests by updating a server application Created queries and shell scripts to produce oﬃce metric ﬁles and transferred them to the cloud for accessibility by 240 ﬁeld teams Streamlined a complex business process into 10K lines of code enabling users without programming backgrounds to create sales order requests via client applications PREVIOUS EXPERIENCE ______________________________________________________________________ Junior Software Engineer ABC Company London UK Mobile Developer XYZ Company New York USA Software Tester Internship ABC New York USA 06 2017 10 2018 01 2016 05 2017 07 2014 12 2015 CONTACT __________________________ Worcester United Kingdom 44 1234567890 ﬁrst last gmail com SKILLS __________________________ Hard Skills CI CD Pipelines Conﬁguration Management Network Administration Cloud Computing Automation Continuous Integration Techniques Agile Methodologies Virtualization Systems Administration Tools and Software Bash Shell Scripting SQL Elasticsearch Languages English Native Romanian Native Spanish Conversational EDUCATION __________________________ University of New York Associate of Applied Science Information Technology New York City New York 10 2011 06 2014 OTHER _____________________________ CompTIA Network Elastix Certiﬁed Engineer \n",
      "Database Administrator\n"
     ]
    }
   ],
   "source": [
    "import re\n",
    "\n",
    "text = r\"\"\"\n",
    "First Lasn DevOps Engineer WORK EXPERIENCE ______________________________________________________________________ Resume Worded London United Kingdom Career training and membership SaaS with 150000 paying users DevOps Engineer 08 2021 Present Reviewed all AWS accounts and environments to avoid additional costs decreasing 63 of quarterly bills Maintained the IT infrastructure VPN and MPLS connections between 80 branch oﬃces and 30 security systems Collaborated with 20 IT support team members to troubleshoot and install devices hardware failures and network related problems Developed a tool that enabled 250 developers to deploy virtual machines within 45 seconds against 10 minutes recorded in previous years Polyhire London United Kingdom NYSE listed recruitment and employer branding company System Admin 10 2019 07 2021 Reduced programming time to 20 days against 15 weeks by devising a modular framework for creating backend code in Python and Django Analyzed user errors and corrected 2400 lines of problematic codes reducing computer system downtime by 74 YoY Transformed the web server of Polyhire from an obsolete Apache to a LAMP stack enhancing site performance by 89 Consolidated all CRM databases into a single VM which improved accessibility and saved the company 1500 monthly Growthsi London United Kingdom Barcelona Spain Augmented reality startup with 50 employees and 100m annual revenue SQL Programmer 11 2018 09 2019 Attracted 700 weekly downloads on Bitbucket by developing an open source SQL parser including parsing trees syntax analysis and runtime error detection Designed a transaction processing functionality to handle 1M simultaneous client requests by updating a server application Created queries and shell scripts to produce oﬃce metric ﬁles and transferred them to the cloud for accessibility by 240 ﬁeld teams Streamlined a complex business process into 10K lines of code enabling users without programming backgrounds to create sales order requests via client applications PREVIOUS EXPERIENCE ______________________________________________________________________ Junior Software Engineer ABC Company London UK Mobile Developer XYZ Company New York USA Software Tester Internship ABC New York USA 06 2017 10 2018 01 2016 05 2017 07 2014 12 2015 CONTACT __________________________ Worcester United Kingdom 44 1234567890 ﬁrst last gmail com SKILLS __________________________ Hard Skills CI CD Pipelines Conﬁguration Management Network Administration Cloud Computing Automation Continuous Integration Techniques Agile Methodologies Virtualization Systems Administration Tools and Software Bash Shell Scripting SQL Elasticsearch Languages English Native Romanian Native Spanish Conversational EDUCATION __________________________ University of New York Associate of Applied Science Information Technology New York City New York 10 2011 06 2014 OTHER _____________________________ CompTIA Network Elastix Certiﬁed Engineer\n",
    "\"\"\"\n",
    "\n",
    "# Remove non-word characters using raw string for regex\n",
    "cleaned_text = re.sub(r'\\W', ' ', text)\n",
    "print(cleaned_text)\n",
    "pred = job_recommendation(cleaned_text)\n",
    "print(pred)"
   ]
  },
  {
   "cell_type": "code",
   "execution_count": null,
   "id": "6bbdf915",
   "metadata": {},
   "outputs": [],
   "source": []
  },
  {
   "cell_type": "code",
   "execution_count": 20,
   "id": "9d7154f1",
   "metadata": {},
   "outputs": [],
   "source": [
    "import pickle\n",
    "pickle.dump(rf_classifier,open('rf_classifier_job_recommendation.pkl','wb'))\n",
    "pickle.dump(tfidf_vectorizer,open('tfidf_vectorizer_job_recommendation.pkl','wb'))"
   ]
  },
  {
   "cell_type": "code",
   "execution_count": null,
   "id": "ccd85c1f",
   "metadata": {},
   "outputs": [],
   "source": []
  }
 ],
 "metadata": {
  "kernelspec": {
   "display_name": "Python 3",
   "language": "python",
   "name": "python3"
  },
  "language_info": {
   "codemirror_mode": {
    "name": "ipython",
    "version": 3
   },
   "file_extension": ".py",
   "mimetype": "text/x-python",
   "name": "python",
   "nbconvert_exporter": "python",
   "pygments_lexer": "ipython3",
   "version": "3.12.4"
  }
 },
 "nbformat": 4,
 "nbformat_minor": 5
}
