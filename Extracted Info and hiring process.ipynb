{
 "cells": [
  {
   "cell_type": "markdown",
   "id": "25904311",
   "metadata": {},
   "source": [
    "# Extracting Text from Resumes\n",
    "The first step in resume parsing is to extract the text from resumes in various formats, such as PDF or Word documents. We’ll be using the pdfminer.six library to extract text from PDF resumes. Here’s a function that takes a PDF file path as input and returns the extracted text:"
   ]
  },
  {
   "cell_type": "code",
   "execution_count": null,
   "id": "53e123ef",
   "metadata": {},
   "outputs": [
    {
     "data": {
      "text/plain": [
       "'First Last\\nDevOps Engineer\\n\\nWORK EXPERIENCE\\n______________________________________________________________________\\n\\nResume Worded, London, United Kingdom\\nCareer training and membership SaaS with 150,000 paying users\\n\\nDevOps Engineer\\n\\n08/2021 – Present\\n\\n● Reviewed all AWS accounts and environments to avoid additional costs,\\n\\ndecreasing 63% of quarterly bills.\\n\\n● Maintained the IT infrastructure, VPN, and MPLS connections between 80+\\n\\nbranch oﬃces and 30+ security systems.\\n\\n● Collaborated with 20+ IT support team members to troubleshoot and install\\n\\ndevices, hardware failures and network-related problems.\\n\\n● Developed a tool that enabled 250+ developers to deploy virtual machines\\nwithin 45 seconds against 10+ minutes recorded in previous years. .\\n\\nPolyhire, London, United Kingdom\\nNYSE-listed recruitment and employer branding company\\n\\nSystem Admin\\n\\n10/2019 – 07/2021\\n\\n● Reduced programming time to 20 days against 15 weeks by devising a\\n\\n●\\n\\n●\\n\\nmodular framework for creating backend code in Python and Django.\\nAnalyzed user errors and corrected 2400+ lines of problematic codes,\\nreducing computer system downtime by 74% YoY.\\nTransformed the web server of Polyhire from an obsolete Apache to a LAMP\\nstack, enhancing site performance by 89%.\\n\\n● Consolidated all CRM databases into a single VM, which improved\\n\\naccessibility and saved the company $1500+ monthly.\\n\\nGrowthsi, London, United Kingdom & Barcelona, Spain\\nAugmented reality startup with 50+ employees and $100m+ annual revenue\\n\\nSQL Programmer\\n\\n11/2018 – 09/2019\\n\\n●\\n\\nAttracted 700+ weekly downloads on Bitbucket by developing an open-source\\nSQL parser, including parsing trees, syntax analysis, and run-time error\\ndetection.\\n\\n● Designed a transaction processing functionality to handle 1M simultaneous\\n\\nclient requests by updating a server application.\\n\\n●\\n\\n● Created queries and shell scripts to produce oﬃce metric ﬁles and\\ntransferred them to the cloud for accessibility by 240+ ﬁeld teams.\\nStreamlined a complex business process into 10K lines of code, enabling\\nusers without programming backgrounds to create sales order requests via\\nclient applications.\\n\\nPREVIOUS EXPERIENCE\\n______________________________________________________________________\\n\\nJunior Software Engineer, ABC Company, London, UK\\nMobile Developer, XYZ Company, New York, USA\\nSoftware Tester (Internship), ABC, New York, USA\\n\\n06/2017 – 10/2018\\n\\n01/2016 – 05/2017\\n\\n07/2014 – 12/2015\\n\\nCONTACT\\n__________________________\\n\\n• Worcester, United Kingdom\\n• +44 1234567890\\n• ﬁrst.last@gmail.com\\n\\nSKILLS\\n__________________________\\n\\nHard Skills:\\n• CI/CD Pipelines\\n• Conﬁguration Management\\n• Network Administration\\n• Cloud Computing\\n• Automation\\n• Continuous Integration\\n\\nTechniques:\\n• Agile Methodologies\\n• Virtualization\\n• Systems Administration\\n\\nTools and Software:\\n• Bash\\n• Shell Scripting\\n• SQL\\n• Elasticsearch\\n\\nLanguages:\\n• English (Native)\\n• Romanian (Native)\\n• Spanish (Conversational)\\n\\nEDUCATION\\n__________________________\\n\\nUniversity of New York\\nAssociate of Applied Science\\nInformation Technology\\nNew York City, New York\\n10/2011 - 06/2014\\n\\nOTHER\\n___________________________\\n\\n• CompTIA Network+\\n• Elastix Certiﬁed Engineer\\n\\n\\x0c'"
      ]
     },
     "execution_count": 12,
     "metadata": {},
     "output_type": "execute_result"
    }
   ],
   "source": [
    "import re\n",
    "from pdfminer.high_level import extract_text\n",
    "\n",
    "def extract_text_from_pdf(pdf_path):\n",
    "    return extract_text(pdf_path)\n",
    "\n",
    "\n",
    "#resume_path = \"info resume.pdf\"\n",
    "# resume_path = \"ATHARV_BAPAT_VIT.pdf\"\n",
    "resume_path = \"test2.pdf\"\n",
    "text = extract_text_from_pdf(resume_path)\n",
    "text\n",
    "\n",
    "\n"
   ]
  },
  {
   "cell_type": "markdown",
   "id": "3869cab2",
   "metadata": {},
   "source": [
    "# Extracting Contact Information\n",
    "\n",
    "\n",
    "Contact information, including phone numbers, email addresses, and physical addresses, is crucial for reaching out to potential candidates. Extracting this information accurately is an essential part of resume parsing. We can use regular expressions to match patterns and extract contact information.\n",
    "\n",
    "# Function to Extract\n",
    "\n",
    "\n",
    "Let’s define a function to extract a contact number from the resume text:"
   ]
  },
  {
   "cell_type": "code",
   "execution_count": 13,
   "id": "4795cd19",
   "metadata": {},
   "outputs": [
    {
     "data": {
      "text/plain": [
       "'44 1234567890'"
      ]
     },
     "execution_count": 13,
     "metadata": {},
     "output_type": "execute_result"
    }
   ],
   "source": [
    "import re\n",
    "\n",
    "def extract_contact_number_from_resume(text):\n",
    "    contact_number = None\n",
    "\n",
    "    # Use regex pattern to find a potential contact number\n",
    "    pattern = r\"\\b(?:\\+?\\d{1,3}[-.\\s]?)?\\(?\\d{3}\\)?[-.\\s]?\\d{3}[-.\\s]?\\d{4}\\b\"\n",
    "    match = re.search(pattern, text)\n",
    "    if match:\n",
    "        contact_number = match.group()\n",
    "\n",
    "    return contact_number\n",
    "\n",
    "phone = extract_contact_number_from_resume(text)\n",
    "phone"
   ]
  },
  {
   "cell_type": "markdown",
   "id": "73ce6ac7",
   "metadata": {},
   "source": [
    "# Extracting Email Address\n",
    "In addition to the contact number, extracting the email address is vital for communication with candidates. We can again use regular expressions to match patterns and extract the email address. Here’s a function to extract the email address from the resume text:"
   ]
  },
  {
   "cell_type": "code",
   "execution_count": 14,
   "id": "1bc1e09c",
   "metadata": {},
   "outputs": [
    {
     "data": {
      "text/plain": [
       "'.last@gmail.com'"
      ]
     },
     "execution_count": 14,
     "metadata": {},
     "output_type": "execute_result"
    }
   ],
   "source": [
    "import re\n",
    "\n",
    "def extract_email_from_resume(text):\n",
    "    email = None\n",
    "\n",
    "    # Use regex pattern to find a potential email address\n",
    "    pattern = r\"\\b[A-Za-z0-9._%+-]+@[A-Za-z0-9.-]+\\.[A-Za-z]{2,}\\b\"\n",
    "    match = re.search(pattern, text)\n",
    "    if match:\n",
    "        email = match.group()\n",
    "\n",
    "    return email\n",
    "\n",
    "email = extract_email_from_resume(text)\n",
    "email"
   ]
  },
  {
   "cell_type": "markdown",
   "id": "a74a16b8",
   "metadata": {},
   "source": [
    "# Extracting Skills\n",
    "Identifying the skills mentioned in a resume is crucial for determining the candidate’s qualifications. We can create a list of relevant skills and match them against the resume text to extract the mentioned skills. Let’s define a function to extract skills from the resume text:"
   ]
  },
  {
   "cell_type": "code",
   "execution_count": 15,
   "id": "dbb25dda",
   "metadata": {},
   "outputs": [
    {
     "name": "stdout",
     "output_type": "stream",
     "text": [
      "Skills: ['Information Technology', 'Augmented Reality', 'Cloud Computing', 'Python', 'Shell Scripting', 'SQL', 'Elasticsearch', 'DevOps', 'CI/CD', 'AWS', 'Information Technology']\n"
     ]
    }
   ],
   "source": [
    "import re\n",
    "\n",
    "def extract_skills_from_resume(text, skills_list):\n",
    "    skills = []\n",
    "\n",
    "    for skill in skills_list:\n",
    "        pattern = r\"\\b{}\\b\".format(re.escape(skill))\n",
    "        match = re.search(pattern, text, re.IGNORECASE)\n",
    "        if match:\n",
    "            skills.append(skill)\n",
    "\n",
    "    return skills\n",
    "\n",
    "\n",
    "# List of predefined skills\n",
    "# skills_list = [\n",
    "#     'Python', 'Data Analysis', 'Machine Learning', 'Communication', 'Project Management', 'Deep Learning', 'SQL', 'Tableau',\n",
    "#     'Java', 'C++', 'JavaScript', 'HTML', 'CSS', 'React', 'Angular', 'Node.js', 'MongoDB', 'Express.js', 'Git',\n",
    "#     'Research', 'Statistics', 'Quantitative Analysis', 'Qualitative Analysis', 'SPSS', 'R', 'Data Visualization', 'Matplotlib',\n",
    "#     'Seaborn', 'Plotly', 'Pandas', 'Numpy', 'Scikit-learn', 'TensorFlow', 'Keras', 'PyTorch', 'NLTK', 'Text Mining',\n",
    "#     'Natural Language Processing', 'Computer Vision', 'Image Processing', 'OCR', 'Speech Recognition', 'Recommendation Systems',\n",
    "#     'Collaborative Filtering', 'Content-Based Filtering', 'Reinforcement Learning', 'Neural Networks', 'Convolutional Neural Networks',\n",
    "#     'Recurrent Neural Networks', 'Generative Adversarial Networks', 'XGBoost', 'Random Forest', 'Decision Trees', 'Support Vector Machines',\n",
    "#     'Linear Regression', 'Logistic Regression', 'K-Means Clustering', 'Hierarchical Clustering', 'DBSCAN', 'Association Rule Learning',\n",
    "#     'Apache Hadoop', 'Apache Spark', 'MapReduce', 'Hive', 'HBase', 'Apache Kafka', 'Data Warehousing', 'ETL', 'Big Data Analytics',\n",
    "#     'Cloud Computing', 'Amazon Web Services (AWS)', 'Microsoft Azure', 'Google Cloud Platform (GCP)', 'Docker', 'Kubernetes', 'Linux',\n",
    "#     'Shell Scripting', 'Cybersecurity', 'Network Security', 'Penetration Testing', 'Firewalls', 'Encryption', 'Malware Analysis',\n",
    "#     'Digital Forensics', 'CI/CD', 'DevOps', 'Agile Methodology', 'Scrum', 'Kanban', 'Continuous Integration', 'Continuous Deployment',\n",
    "#     'Software Development', 'Web Development', 'Mobile Development', 'Backend Development', 'Frontend Development', 'Full-Stack Development',\n",
    "#     'UI/UX Design', 'Responsive Design', 'Wireframing', 'Prototyping', 'User Testing', 'Adobe Creative Suite', 'Photoshop', 'Illustrator',\n",
    "#     'InDesign', 'Figma', 'Sketch', 'Zeplin', 'InVision', 'Product Management', 'Market Research', 'Customer Development', 'Lean Startup',\n",
    "#     'Business Development', 'Sales', 'Marketing', 'Content Marketing', 'Social Media Marketing', 'Email Marketing', 'SEO', 'SEM', 'PPC',\n",
    "#     'Google Analytics', 'Facebook Ads', 'LinkedIn Ads', 'Lead Generation', 'Customer Relationship Management (CRM)', 'Salesforce',\n",
    "#     'HubSpot', 'Zendesk', 'Intercom', 'Customer Support', 'Technical Support', 'Troubleshooting', 'Ticketing Systems', 'ServiceNow',\n",
    "#     'ITIL', 'Quality Assurance', 'Manual Testing', 'Automated Testing', 'Selenium', 'JUnit', 'Load Testing', 'Performance Testing',\n",
    "#     'Regression Testing', 'Black Box Testing', 'White Box Testing', 'API Testing', 'Mobile Testing', 'Usability Testing', 'Accessibility Testing',\n",
    "#     'Cross-Browser Testing', 'Agile Testing', 'User Acceptance Testing', 'Software Documentation', 'Technical Writing', 'Copywriting',\n",
    "#     'Editing', 'Proofreading', 'Content Management Systems (CMS)', 'WordPress', 'Joomla', 'Drupal', 'Magento', 'Shopify', 'E-commerce',\n",
    "#     'Payment Gateways', 'Inventory Management', 'Supply Chain Management', 'Logistics', 'Procurement', 'ERP Systems', 'SAP', 'Oracle',\n",
    "#     'Microsoft Dynamics', 'Tableau', 'Power BI', 'QlikView', 'Looker', 'Data Warehousing', 'ETL', 'Data Engineering', 'Data Governance',\n",
    "#     'Data Quality', 'Master Data Management', 'Predictive Analytics', 'Prescriptive Analytics', 'Descriptive Analytics', 'Business Intelligence',\n",
    "#     'Dashboarding', 'Reporting', 'Data Mining', 'Web Scraping', 'API Integration', 'RESTful APIs', 'GraphQL', 'SOAP', 'Microservices',\n",
    "#     'Serverless Architecture', 'Lambda Functions', 'Event-Driven Architecture', 'Message Queues', 'GraphQL', 'Socket.io', 'WebSockets'\n",
    "# 'Ruby', 'Ruby on Rails', 'PHP', 'Symfony', 'Laravel', 'CakePHP', 'Zend Framework', 'ASP.NET', 'C#', 'VB.NET', 'ASP.NET MVC', 'Entity Framework',\n",
    "#     'Spring', 'Hibernate', 'Struts', 'Kotlin', 'Swift', 'Objective-C', 'iOS Development', 'Android Development', 'Flutter', 'React Native', 'Ionic',\n",
    "#     'Mobile UI/UX Design', 'Material Design', 'SwiftUI', 'RxJava', 'RxSwift', 'Django', 'Flask', 'FastAPI', 'Falcon', 'Tornado', 'WebSockets',\n",
    "#     'GraphQL', 'RESTful Web Services', 'SOAP', 'Microservices Architecture', 'Serverless Computing', 'AWS Lambda', 'Google Cloud Functions',\n",
    "#     'Azure Functions', 'Server Administration', 'System Administration', 'Network Administration', 'Database Administration', 'MySQL', 'PostgreSQL',\n",
    "#     'SQLite', 'Microsoft SQL Server', 'Oracle Database', 'NoSQL', 'MongoDB', 'Cassandra', 'Redis', 'Elasticsearch', 'Firebase', 'Google Analytics',\n",
    "#     'Google Tag Manager', 'Adobe Analytics', 'Marketing Automation', 'Customer Data Platforms', 'Segment', 'Salesforce Marketing Cloud', 'HubSpot CRM',\n",
    "#     'Zapier', 'IFTTT', 'Workflow Automation', 'Robotic Process Automation (RPA)', 'UI Automation', 'Natural Language Generation (NLG)',\n",
    "#     'Virtual Reality (VR)', 'Augmented Reality (AR)', 'Mixed Reality (MR)', 'Unity', 'Unreal Engine', '3D Modeling', 'Animation', 'Motion Graphics',\n",
    "#     'Game Design', 'Game Development', 'Level Design', 'Unity3D', 'Unreal Engine 4', 'Blender', 'Maya', 'Adobe After Effects', 'Adobe Premiere Pro',\n",
    "#     'Final Cut Pro', 'Video Editing', 'Audio Editing', 'Sound Design', 'Music Production', 'Digital Marketing', 'Content Strategy', 'Conversion Rate Optimization (CRO)',\n",
    "#     'A/B Testing', 'Customer Experience (CX)', 'User Experience (UX)', 'User Interface (UI)', 'Persona Development', 'User Journey Mapping', 'Information Architecture (IA)',\n",
    "#     'Wireframing', 'Prototyping', 'Usability Testing', 'Accessibility Compliance', 'Internationalization (I18n)', 'Localization (L10n)', 'Voice User Interface (VUI)',\n",
    "#     'Chatbots', 'Natural Language Understanding (NLU)', 'Speech Synthesis', 'Emotion Detection', 'Sentiment Analysis', 'Image Recognition', 'Object Detection',\n",
    "#     'Facial Recognition', 'Gesture Recognition', 'Document Recognition', 'Fraud Detection', 'Cyber Threat Intelligence', 'Security Information and Event Management (SIEM)',\n",
    "#     'Vulnerability Assessment', 'Incident Response', 'Forensic Analysis', 'Security Operations Center (SOC)', 'Identity and Access Management (IAM)', 'Single Sign-On (SSO)',\n",
    "#     'Multi-Factor Authentication (MFA)', 'Blockchain', 'Cryptocurrency', 'Decentralized Finance (DeFi)', 'Smart Contracts', 'Web3', 'Non-Fungible Tokens (NFTs)']\n",
    "\n",
    "\n",
    "skills_list = [\n",
    "    # Core Engineering and Sciences\n",
    "    'Computer Science', 'Information Technology', 'Software Engineering', 'Electrical Engineering', \n",
    "    'Mechanical Engineering', 'Civil Engineering', 'Chemical Engineering', 'Biomedical Engineering', \n",
    "    'Aerospace Engineering', 'Nuclear Engineering', 'Industrial Engineering', 'Systems Engineering',\n",
    "    'Environmental Engineering', 'Petroleum Engineering', 'Geological Engineering', 'Marine Engineering', \n",
    "    'Robotics Engineering', 'Biotechnology', 'Biochemistry', 'Microbiology', 'Genetics', 'Molecular Biology', \n",
    "    'Bioinformatics', 'Neuroscience', 'Biophysics', 'Biostatistics', 'Pharmacology', 'Physiology', 'Anatomy',\n",
    "    'Pathology', 'Immunology', 'Epidemiology', 'Public Health', 'Health Administration', 'Nursing', 'Medicine', \n",
    "    'Dentistry', 'Pharmacy', 'Veterinary Medicine', 'Medical Technology', 'Radiography', 'Physical Therapy', \n",
    "    'Occupational Therapy', 'Speech Therapy', 'Nutrition', 'Sports Science', 'Kinesiology', 'Exercise Physiology',\n",
    "    'Sports Medicine', 'Rehabilitation Science',\n",
    "\n",
    "    # Emerging Technologies\n",
    "    'Artificial Intelligence', 'Machine Learning', 'Deep Learning', 'Natural Language Processing', \n",
    "    'Computer Vision', 'Augmented Reality', 'Virtual Reality', 'Mixed Reality', 'Blockchain Technology', \n",
    "    'Cryptocurrency', 'Quantum Computing', 'Edge Computing', 'Cloud Computing', 'IoT (Internet of Things)', \n",
    "    '5G Technology', 'Digital Twin', 'Big Data', 'Data Mining', 'Data Engineering', 'Predictive Analytics',\n",
    "    'Prescriptive Analytics', 'Business Intelligence', 'Smart Cities', 'Autonomous Vehicles', 'Smart Grids',\n",
    "    'Renewable Energy', 'Energy Storage Systems', 'Cybersecurity', 'Information Security', 'Digital Forensics',\n",
    "\n",
    "    # Software Development and IT\n",
    "    'Programming Languages', 'Python', 'Java', 'JavaScript', 'C++', 'C#', 'GoLang', 'R', 'Ruby', 'Swift', \n",
    "    'Kotlin', 'PHP', 'Perl', 'Shell Scripting', 'SQL', 'NoSQL', 'MongoDB', 'PostgreSQL', 'Redis', 'Elasticsearch',\n",
    "    'DevOps', 'CI/CD', 'Kubernetes', 'Docker', 'Terraform', 'Jenkins', 'AWS', 'Azure', 'Google Cloud Platform',\n",
    "    'Linux Administration', 'Monitoring Tools', 'Prometheus', 'Grafana', 'Nagios', 'Load Balancing',\n",
    "    'Infrastructure as Code', 'Microservices', 'Agile Methodology', 'Scrum', 'Kanban', 'Jira', 'Confluence',\n",
    "    'Git', 'GitHub', 'GitLab', 'Version Control', 'Automation Testing', 'Selenium', 'Cypress', 'JUnit', \n",
    "    'Load Testing', 'Performance Optimization',\n",
    "\n",
    "    # Management and Business\n",
    "    'Project Management', 'Risk Management', 'Strategic Management', 'Business Administration', \n",
    "    'Marketing', 'Finance', 'Accounting', 'Entrepreneurship', 'Supply Chain Management', 'Logistics', \n",
    "    'Operations Management', 'Human Resources', 'Organizational Behavior', 'Corporate Communications',\n",
    "    'Public Relations', 'Digital Marketing', 'SEO (Search Engine Optimization)', 'Content Marketing',\n",
    "    'Affiliate Marketing', 'Brand Management', 'Customer Relationship Management (CRM)', 'Salesforce',\n",
    "    'SAP', 'ERP Systems', 'Agile Project Management', 'Six Sigma', 'Lean Management', 'Process Improvement',\n",
    "    \n",
    "    # Social Sciences and Design\n",
    "    'Psychology', 'Counseling', 'Social Work', 'Sociology', 'Anthropology', 'Political Science', \n",
    "    'International Relations', 'Urban Planning', 'Architecture', 'Interior Design', 'Landscape Architecture',\n",
    "    'Graphic Design', 'User Experience (UX)', 'User Interface (UI)', 'Digital Media', 'Animation',\n",
    "    'Game Development', 'Film Studies', 'Media Production', 'Creative Writing', 'English Literature',\n",
    "    'History', 'Philosophy', 'Theology', 'Religious Studies',\n",
    "\n",
    "    # Environmental Sciences and Sustainability\n",
    "    'Environmental Science', 'Climate Science', 'Meteorology', 'Geography', 'GIS (Geographic Information Systems)',\n",
    "    'Remote Sensing', 'Green Technology', 'Ecology', 'Conservation Biology', 'Wildlife Biology', \n",
    "    'Zoology', 'Sustainability Studies', 'Renewable Energy Sources', 'Carbon Footprinting', \n",
    "    'Climate Modeling', 'Natural Resource Management', 'Biodiversity Studies',\n",
    "\n",
    "    # Data and Analytics\n",
    "    'Data Science', 'Data Analytics', 'Big Data Analytics', 'Hadoop', 'Spark', 'Kafka', \n",
    "    'Business Analytics', 'Data Warehousing', 'ETL Processes', 'Data Visualization', 'Tableau', 'Power BI',\n",
    "    'Statistical Analysis', 'Regression Analysis', 'Machine Learning Algorithms', 'Deep Learning Frameworks',\n",
    "    'TensorFlow', 'PyTorch', 'Keras', 'Scikit-learn', 'Natural Language Toolkit (NLTK)', \n",
    "    'SpaCy', 'Data Preprocessing', 'Feature Engineering', 'Model Deployment',\n",
    "\n",
    "    # Others\n",
    "    'Library Science', 'Education Technology', 'E-learning Systems', 'Instructional Design', \n",
    "    'Curriculum Development', 'Health Informatics', 'Geoinformatics', 'Cartography', 'Fire Science',\n",
    "    'Emergency Management', 'Forensic Science', 'Crime Scene Investigation', 'Telecommunications',\n",
    "    'Optical Networks', 'Nanotechnology', 'Material Science', 'Space Exploration', 'Astronomy', \n",
    "    'Astrophysics', 'Oceanography', 'Marine Biology', 'Hydrology',\n",
    "    'Computer Science', 'Information Technology', 'Software Engineering', 'Electrical Engineering', \n",
    "    'Mechanical Engineering', 'Civil Engineering', 'Chemical Engineering', 'Biomedical Engineering', \n",
    "    'Aerospace Engineering', 'Nuclear Engineering', 'Industrial Engineering', 'Systems Engineering',\n",
    "    'Environmental Engineering', 'Petroleum Engineering', 'Geological Engineering', 'Marine Engineering', \n",
    "    'Robotics Engineering', 'Biotechnology', 'Biochemistry', 'Microbiology', 'Genetics', 'Molecular Biology', \n",
    "    'Bioinformatics', 'Neuroscience', 'Biophysics', 'Biostatistics', 'Pharmacology', 'Physiology', 'Anatomy',\n",
    "    'Pathology', 'Immunology', 'Epidemiology', 'Public Health', 'Health Administration', 'Nursing', 'Medicine', \n",
    "    'Dentistry', 'Pharmacy', 'Veterinary Medicine', 'Medical Technology', 'Radiography', 'Physical Therapy', \n",
    "    'Occupational Therapy', 'Speech Therapy', 'Nutrition', 'Sports Science', 'Kinesiology', 'Exercise Physiology',\n",
    "    'Sports Medicine', 'Rehabilitation Science'\n",
    "\n",
    "]\n",
    "\n",
    "\n",
    "extracted_skills = extract_skills_from_resume(text, skills_list)\n",
    "\n",
    "if extracted_skills:\n",
    "    print(\"Skills:\", extracted_skills)\n",
    "else:\n",
    "    print(\"No skills found\")"
   ]
  },
  {
   "cell_type": "markdown",
   "id": "0cfb5931",
   "metadata": {},
   "source": [
    "# Extracting Education\n",
    "Education qualifications play a vital role in the recruitment process. We can match specific education keywords against the resume text to identify the candidate’s educational background. Here’s a function to extract education information from the resume text:"
   ]
  },
  {
   "cell_type": "code",
   "execution_count": null,
   "id": "544f6bc2",
   "metadata": {},
   "outputs": [
    {
     "name": "stdout",
     "output_type": "stream",
     "text": [
      "Education: ['Education']\n"
     ]
    }
   ],
   "source": [
    "import re\n",
    "\n",
    "def extract_education_from_resume(text):\n",
    "    education = []\n",
    "\n",
    "    # List of education keywords to match against\n",
    "    education_keywords = [\n",
    "        'Computer Science', 'Information Technology', 'Software Engineering', 'Electrical Engineering', 'Mechanical Engineering', 'Civil Engineering',\n",
    "        'Chemical Engineering', 'Biomedical Engineering', 'Aerospace Engineering', 'Nuclear Engineering', 'Industrial Engineering', 'Systems Engineering',\n",
    "        'Environmental Engineering', 'Petroleum Engineering', 'Geological Engineering', 'Marine Engineering', 'Robotics Engineering', 'Biotechnology',\n",
    "        'Biochemistry', 'Microbiology', 'Genetics', 'Molecular Biology', 'Bioinformatics', 'Neuroscience', 'Biophysics', 'Biostatistics', 'Pharmacology',\n",
    "        'Physiology', 'Anatomy', 'Pathology', 'Immunology', 'Epidemiology', 'Public Health', 'Health Administration', 'Nursing', 'Medicine', 'Dentistry',\n",
    "        'Pharmacy', 'Veterinary Medicine', 'Medical Technology', 'Radiography', 'Physical Therapy', 'Occupational Therapy', 'Speech Therapy', 'Nutrition',\n",
    "        'Sports Science', 'Kinesiology', 'Exercise Physiology', 'Sports Medicine', 'Rehabilitation Science', 'Psychology', 'Counseling', 'Social Work',\n",
    "        'Sociology', 'Anthropology', 'Criminal Justice', 'Political Science', 'International Relations', 'Economics', 'Finance', 'Accounting', 'Business Administration',\n",
    "        'Management', 'Marketing', 'Entrepreneurship', 'Hospitality Management', 'Tourism Management', 'Supply Chain Management', 'Logistics Management',\n",
    "        'Operations Management', 'Human Resource Management', 'Organizational Behavior', 'Project Management', 'Quality Management', 'Risk Management',\n",
    "        'Strategic Management', 'Public Administration', 'Urban Planning', 'Architecture', 'Interior Design', 'Landscape Architecture', 'Fine Arts',\n",
    "        'Visual Arts', 'Graphic Design', 'Fashion Design', 'Industrial Design', 'Product Design', 'Animation', 'Film Studies', 'Media Studies',\n",
    "        'Communication Studies', 'Journalism', 'Broadcasting', 'Creative Writing', 'English Literature', 'Linguistics', 'Translation Studies',\n",
    "        'Foreign Languages', 'Modern Languages', 'Classical Studies', 'History', 'Archaeology', 'Philosophy', 'Theology', 'Religious Studies',\n",
    "        'Ethics', 'Education', 'Early Childhood Education', 'Elementary Education', 'Secondary Education', 'Special Education', 'Higher Education',\n",
    "        'Adult Education', 'Distance Education', 'Online Education', 'Instructional Design', 'Curriculum Development'\n",
    "        'Library Science', 'Information Science', 'Computer Engineering', 'Software Development', 'Cybersecurity', 'Information Security',\n",
    "        'Network Engineering', 'Data Science', 'Data Analytics', 'Business Analytics', 'Operations Research', 'Decision Sciences',\n",
    "        'Human-Computer Interaction', 'User Experience Design', 'User Interface Design', 'Digital Marketing', 'Content Strategy',\n",
    "        'Brand Management', 'Public Relations', 'Corporate Communications', 'Media Production', 'Digital Media', 'Web Development',\n",
    "        'Mobile App Development', 'Game Development', 'Virtual Reality', 'Augmented Reality', 'Blockchain Technology', 'Cryptocurrency',\n",
    "        'Digital Forensics', 'Forensic Science', 'Criminalistics', 'Crime Scene Investigation', 'Emergency Management', 'Fire Science',\n",
    "        'Environmental Science', 'Climate Science', 'Meteorology', 'Geography', 'Geomatics', 'Remote Sensing', 'Geoinformatics',\n",
    "        'Cartography', 'GIS (Geographic Information Systems)', 'Environmental Management', 'Sustainability Studies', 'Renewable Energy',\n",
    "        'Green Technology', 'Ecology', 'Conservation Biology', 'Wildlife Biology', 'Zoology']\n",
    "\n",
    "\n",
    "    for keyword in education_keywords:\n",
    "        pattern = r\"(?i)\\b{}\\b\".format(re.escape(keyword))\n",
    "        match = re.search(pattern, text)\n",
    "        if match:\n",
    "            education.append(match.group())\n",
    "\n",
    "    return education\n",
    "\n",
    "extracted_education = extract_education_from_resume(text)\n",
    "if extracted_education:\n",
    "    print(\"Education:\", extracted_education)\n",
    "else:\n",
    "    print(\"No education information found\")"
   ]
  },
  {
   "cell_type": "markdown",
   "id": "0951159a",
   "metadata": {},
   "source": [
    "# Extracting Name Using spaCy\n",
    "Identifying the candidate’s name from the resume is essential for personalization and identification. We can use spaCy and its pattern matching capabilities to extract the candidate’s name. Let’s define a function to extract the name using spaCy:"
   ]
  },
  {
   "cell_type": "code",
   "execution_count": 6,
   "id": "c9c0bf68",
   "metadata": {},
   "outputs": [
    {
     "name": "stdout",
     "output_type": "stream",
     "text": [
      "Name: Amila Welihinda\n"
     ]
    }
   ],
   "source": [
    "def extract_name_from_resume(text):\n",
    "    name = None\n",
    "\n",
    "    # Use regex pattern to find a potential name\n",
    "    pattern = r\"(\\b[A-Z][a-z]+\\b)\\s(\\b[A-Z][a-z]+\\b)\"\n",
    "    match = re.search(pattern, text)\n",
    "    if match:\n",
    "        name = match.group()\n",
    "\n",
    "    return name\n",
    "\n",
    "name = extract_name_from_resume(text)\n",
    "\n",
    "if name:\n",
    "    print(\"Name:\", name)\n",
    "else:\n",
    "    print(\"Name not found\")"
   ]
  },
  {
   "cell_type": "code",
   "execution_count": null,
   "id": "420503a5",
   "metadata": {},
   "outputs": [],
   "source": []
  }
 ],
 "metadata": {
  "kernelspec": {
   "display_name": "scrap",
   "language": "python",
   "name": "python3"
  },
  "language_info": {
   "codemirror_mode": {
    "name": "ipython",
    "version": 3
   },
   "file_extension": ".py",
   "mimetype": "text/x-python",
   "name": "python",
   "nbconvert_exporter": "python",
   "pygments_lexer": "ipython3",
   "version": "3.12.4"
  }
 },
 "nbformat": 4,
 "nbformat_minor": 5
}
